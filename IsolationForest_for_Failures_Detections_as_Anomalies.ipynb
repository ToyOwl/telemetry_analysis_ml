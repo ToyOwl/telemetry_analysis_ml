{
  "cells": [
    {
      "cell_type": "markdown",
      "source": [
        "**Installing the Required Modules**"
      ],
      "metadata": {
        "id": "fruFowADn0oF"
      }
    },
    {
      "cell_type": "code",
      "source": [
        "!pip install optuna\n",
        "!pip install scikit-lego"
      ],
      "metadata": {
        "colab": {
          "base_uri": "https://localhost:8080/"
        },
        "id": "_LBNvXEZn6bX",
        "outputId": "6c9ae37b-fd3b-476e-dfcb-92affc9e02e7"
      },
      "execution_count": 104,
      "outputs": [
        {
          "output_type": "stream",
          "name": "stdout",
          "text": [
            "Looking in indexes: https://pypi.org/simple, https://us-python.pkg.dev/colab-wheels/public/simple/\n",
            "Requirement already satisfied: optuna in /usr/local/lib/python3.10/dist-packages (3.2.0)\n",
            "Requirement already satisfied: alembic>=1.5.0 in /usr/local/lib/python3.10/dist-packages (from optuna) (1.11.1)\n",
            "Requirement already satisfied: cmaes>=0.9.1 in /usr/local/lib/python3.10/dist-packages (from optuna) (0.9.1)\n",
            "Requirement already satisfied: colorlog in /usr/local/lib/python3.10/dist-packages (from optuna) (6.7.0)\n",
            "Requirement already satisfied: numpy in /usr/local/lib/python3.10/dist-packages (from optuna) (1.22.4)\n",
            "Requirement already satisfied: packaging>=20.0 in /usr/local/lib/python3.10/dist-packages (from optuna) (23.1)\n",
            "Requirement already satisfied: sqlalchemy>=1.3.0 in /usr/local/lib/python3.10/dist-packages (from optuna) (2.0.10)\n",
            "Requirement already satisfied: tqdm in /usr/local/lib/python3.10/dist-packages (from optuna) (4.65.0)\n",
            "Requirement already satisfied: PyYAML in /usr/local/lib/python3.10/dist-packages (from optuna) (6.0)\n",
            "Requirement already satisfied: Mako in /usr/local/lib/python3.10/dist-packages (from alembic>=1.5.0->optuna) (1.2.4)\n",
            "Requirement already satisfied: typing-extensions>=4 in /usr/local/lib/python3.10/dist-packages (from alembic>=1.5.0->optuna) (4.5.0)\n",
            "Requirement already satisfied: greenlet!=0.4.17 in /usr/local/lib/python3.10/dist-packages (from sqlalchemy>=1.3.0->optuna) (2.0.2)\n",
            "Requirement already satisfied: MarkupSafe>=0.9.2 in /usr/local/lib/python3.10/dist-packages (from Mako->alembic>=1.5.0->optuna) (2.1.2)\n",
            "Looking in indexes: https://pypi.org/simple, https://us-python.pkg.dev/colab-wheels/public/simple/\n",
            "Requirement already satisfied: scikit-lego in /usr/local/lib/python3.10/dist-packages (0.6.14)\n",
            "Requirement already satisfied: scikit-learn>=0.24.1 in /usr/local/lib/python3.10/dist-packages (from scikit-lego) (1.2.2)\n",
            "Requirement already satisfied: pandas>=1.1.5 in /usr/local/lib/python3.10/dist-packages (from scikit-lego) (1.5.3)\n",
            "Requirement already satisfied: patsy>=0.5.1 in /usr/local/lib/python3.10/dist-packages (from scikit-lego) (0.5.3)\n",
            "Requirement already satisfied: autograd>=1.2 in /usr/local/lib/python3.10/dist-packages (from scikit-lego) (1.5)\n",
            "Requirement already satisfied: Deprecated>=1.2.6 in /usr/local/lib/python3.10/dist-packages (from scikit-lego) (1.2.14)\n",
            "Requirement already satisfied: umap-learn>=0.4.6 in /usr/local/lib/python3.10/dist-packages (from scikit-lego) (0.5.3)\n",
            "Requirement already satisfied: numpy>=1.12 in /usr/local/lib/python3.10/dist-packages (from autograd>=1.2->scikit-lego) (1.22.4)\n",
            "Requirement already satisfied: future>=0.15.2 in /usr/local/lib/python3.10/dist-packages (from autograd>=1.2->scikit-lego) (0.18.3)\n",
            "Requirement already satisfied: wrapt<2,>=1.10 in /usr/local/lib/python3.10/dist-packages (from Deprecated>=1.2.6->scikit-lego) (1.14.1)\n",
            "Requirement already satisfied: python-dateutil>=2.8.1 in /usr/local/lib/python3.10/dist-packages (from pandas>=1.1.5->scikit-lego) (2.8.2)\n",
            "Requirement already satisfied: pytz>=2020.1 in /usr/local/lib/python3.10/dist-packages (from pandas>=1.1.5->scikit-lego) (2022.7.1)\n",
            "Requirement already satisfied: six in /usr/local/lib/python3.10/dist-packages (from patsy>=0.5.1->scikit-lego) (1.16.0)\n",
            "Requirement already satisfied: scipy>=1.3.2 in /usr/local/lib/python3.10/dist-packages (from scikit-learn>=0.24.1->scikit-lego) (1.10.1)\n",
            "Requirement already satisfied: joblib>=1.1.1 in /usr/local/lib/python3.10/dist-packages (from scikit-learn>=0.24.1->scikit-lego) (1.2.0)\n",
            "Requirement already satisfied: threadpoolctl>=2.0.0 in /usr/local/lib/python3.10/dist-packages (from scikit-learn>=0.24.1->scikit-lego) (3.1.0)\n",
            "Requirement already satisfied: numba>=0.49 in /usr/local/lib/python3.10/dist-packages (from umap-learn>=0.4.6->scikit-lego) (0.56.4)\n",
            "Requirement already satisfied: pynndescent>=0.5 in /usr/local/lib/python3.10/dist-packages (from umap-learn>=0.4.6->scikit-lego) (0.5.10)\n",
            "Requirement already satisfied: tqdm in /usr/local/lib/python3.10/dist-packages (from umap-learn>=0.4.6->scikit-lego) (4.65.0)\n",
            "Requirement already satisfied: llvmlite<0.40,>=0.39.0dev0 in /usr/local/lib/python3.10/dist-packages (from numba>=0.49->umap-learn>=0.4.6->scikit-lego) (0.39.1)\n",
            "Requirement already satisfied: setuptools in /usr/local/lib/python3.10/dist-packages (from numba>=0.49->umap-learn>=0.4.6->scikit-lego) (67.7.2)\n"
          ]
        }
      ]
    },
    {
      "cell_type": "markdown",
      "metadata": {
        "id": "CXsKzXe_x-t4"
      },
      "source": [
        "**Importing the Required Modules**"
      ]
    },
    {
      "cell_type": "code",
      "execution_count": 105,
      "metadata": {
        "colab": {
          "base_uri": "https://localhost:8080/"
        },
        "id": "RrSo2OJzx-Pw",
        "outputId": "4d42b16c-483e-4b90-ec1b-825fc9289763"
      },
      "outputs": [
        {
          "output_type": "stream",
          "name": "stdout",
          "text": [
            "Drive already mounted at /drive; to attempt to forcibly remount, call drive.mount(\"/drive\", force_remount=True).\n"
          ]
        }
      ],
      "source": [
        "from sklearn.metrics import f1_score,  precision_score, recall_score, auc, roc_curve\n",
        "from sklearn.ensemble import IsolationForest\n",
        "\n",
        "import pandas as pd\n",
        "import numpy as np\n",
        "import matplotlib.pyplot as plt\n",
        "import seaborn as sns\n",
        "\n",
        "import matplotlib.pyplot as plt\n",
        "\n",
        "from sklearn.preprocessing import OrdinalEncoder\n",
        "from sklearn.preprocessing import FunctionTransformer\n",
        "\n",
        "from sklearn.compose import make_column_transformer\n",
        "\n",
        "from sklego.preprocessing import ColumnCapper\n",
        "\n",
        "from sklearn.model_selection import train_test_split\n",
        "\n",
        "import optuna\n",
        "\n",
        "pd.set_option(\"display.max_rows\", 20)\n",
        "pd.set_option(\"display.max_columns\", 20)\n",
        "pd.set_option(\"display.precision\", 4)\n",
        "pd.set_option(\"plotting.backend\", \"matplotlib\")\n",
        "\n",
        "from google.colab import drive\n",
        "drive.mount('/drive')\n",
        "\n",
        "import warnings\n",
        "warnings.filterwarnings(\"ignore\")"
      ]
    },
    {
      "cell_type": "markdown",
      "source": [
        "**Freeze Random State**"
      ],
      "metadata": {
        "id": "WIpi0J1enQ1i"
      }
    },
    {
      "cell_type": "code",
      "source": [
        "np.random.seed(35)"
      ],
      "metadata": {
        "id": "QqqOgGWDnltP"
      },
      "execution_count": 106,
      "outputs": []
    },
    {
      "cell_type": "markdown",
      "source": [
        "**Utility Functions**"
      ],
      "metadata": {
        "id": "OKL3czZ173YB"
      }
    },
    {
      "cell_type": "code",
      "source": [
        "def outlier_metirc_detection_report(y, y_pred):\n",
        "    precision = precision_score(y, y_pred, pos_label=-1, zero_division=0)\n",
        "    recall = recall_score(y, y_pred, pos_label=-1, zero_division=0)\n",
        "    f1 = f1_score(y, y_pred, pos_label=-1, zero_division=0)\n",
        "    print(f\"precision: {precision: .2f}\")\n",
        "    print(f\"recall: {recall: .2f}\")\n",
        "    print(f\"f1_score: {f1: .2f}\")\n"
      ],
      "metadata": {
        "id": "ZTMMmwBM71Qx"
      },
      "execution_count": 107,
      "outputs": []
    },
    {
      "cell_type": "markdown",
      "source": [
        "# **I. Goal**"
      ],
      "metadata": {
        "id": "VN6oNCgCmMzr"
      }
    },
    {
      "cell_type": "markdown",
      "source": [
        "Цель нашей использовать построить детектор сбоя работы оборудования по  телеметрическим данным: https://www.kaggle.com/datasets/tiagotgoz/predictive-useful-life-based-into-telemetry"
      ],
      "metadata": {
        "id": "lPXvx5XMx_Eo"
      }
    },
    {
      "cell_type": "markdown",
      "source": [
        "# **II. Approaches and Limitations**"
      ],
      "metadata": {
        "id": "Wwp4Zjz6KHxk"
      }
    },
    {
      "cell_type": "markdown",
      "source": [
        "В качестве детектора сбоев работы оборудования речерез детекцию аномалий выбран IsolationForest\n"
      ],
      "metadata": {
        "id": "F2OHDCoHKLhx"
      }
    },
    {
      "cell_type": "markdown",
      "metadata": {
        "id": "qy4yj--r07RL"
      },
      "source": [
        "# **1. Data Transformers**"
      ]
    },
    {
      "cell_type": "markdown",
      "source": [
        "## **1.1 Datatime Transformers**"
      ],
      "metadata": {
        "id": "mrjxqrBwTy6V"
      }
    },
    {
      "cell_type": "code",
      "execution_count": 108,
      "metadata": {
        "id": "Jyn8oc1laUON"
      },
      "outputs": [],
      "source": [
        "def sin_transformer(period):\n",
        "    return FunctionTransformer(lambda x: np.sin(x / period * 2 * np.pi))\n",
        "\n",
        "def cos_transformer(period):\n",
        "    return FunctionTransformer(lambda x: np.cos(x / period * 2 * np.pi))"
      ]
    },
    {
      "cell_type": "markdown",
      "source": [
        "## **1.2 Utility Transformers**"
      ],
      "metadata": {
        "id": "VSJ9AllUpXZK"
      }
    },
    {
      "cell_type": "code",
      "source": [
        "def identy():\n",
        "  return FunctionTransformer(lambda x: x)"
      ],
      "metadata": {
        "id": "iqRIMXwo8PQu"
      },
      "execution_count": 109,
      "outputs": []
    },
    {
      "cell_type": "markdown",
      "source": [
        "## **1.3 Full Dataset Transformer**"
      ],
      "metadata": {
        "id": "N2ygJHHO8VtD"
      }
    },
    {
      "cell_type": "code",
      "execution_count": 110,
      "metadata": {
        "id": "dQ5HQ6X_eOqC"
      },
      "outputs": [],
      "source": [
        "transform = make_column_transformer(\n",
        "   (OrdinalEncoder(), [\"age\", \"model\"]),\n",
        "   (sin_transformer(365), [\"time_in_cycles\"]),\n",
        "   (cos_transformer(365), [\"time_in_cycles\"]),\n",
        "   (ColumnCapper((.1, .95)),\n",
        "     [\"voltmean_24h\",\"rotatemean_24h\",\"pressuremean_24h\",\n",
        "      \"vibrationmean_24h\", \"voltsd_24h\", \"rotatesd_24h\",\n",
        "      \"pressuresd_24h\", \"vibrationsd_24h\", \"voltmean_5d\", \"rotatemean_5d\",\n",
        "      \"pressuremean_5d\", \"vibrationmean_5d\", \"voltsd_5d\", \"rotatesd_5d\",\n",
        "      \"pressuresd_5d\",\"vibrationsd_5d\", \"volts_entropy\", \"volts_benford\",\n",
        "      \"volts_cidce\", \"volts_lzc\", \"press_max\", \"press_below\", \"press_above\",\n",
        "      \"press_entropy\", \"press_benford\", \"press_cidce\", \"press_lzc\",\n",
        "      \"vibra_max\", \"vibra_below\", \"vibra_above\", \"vibra_entropy\",\n",
        "      \"vibra_benford\", \"vibra_cidce\", \"vibra_lzc\", \"rotate_max\", \"rotate_below\",\n",
        "      \"rotate_above\", \"rotate_entropy\", \"rotate_benford\", \"rotate_cidce\",\n",
        "       \"rotate_lzc\",\"volts_max\", \"volts_below\", \"volts_above\", \"DI\",\n",
        "      ]),\n",
        "   (identy(), [\"error1\", \"error2\", \"error3\", \"error4\", \"error5\",\n",
        "               \"comp1\",  \"comp2\",  \"comp3\", \"comp4\"]),\n",
        ")"
      ]
    },
    {
      "cell_type": "markdown",
      "metadata": {
        "id": "5ZoleJvUZua7"
      },
      "source": [
        "# **2. Detector Fitting**"
      ]
    },
    {
      "cell_type": "markdown",
      "source": [
        "## **2.1 Objective Function**"
      ],
      "metadata": {
        "id": "TcxLq9rHwyqS"
      }
    },
    {
      "cell_type": "markdown",
      "source": [
        "Не будем  крутить “ручку настройки” параметров алгоритма детекции аномалий, а доверим все это Optuna. Так как по сути мы имеем дело с бинарным классификатором аномалия/нормальный пример в качестве score функции будем использовать площадь под ROC кривой"
      ],
      "metadata": {
        "id": "i5LkA0X6Fs-q"
      }
    },
    {
      "cell_type": "code",
      "source": [
        "class IsolationForestSupervised:\n",
        "\n",
        "    def __init__(self, X_train, Y_train, X_val, Y_val):\n",
        "        self.X = X_train\n",
        "        self.Y = Y_train\n",
        "        self.X_val = X_val\n",
        "        self.Y_val = Y_val\n",
        "        self.best_score = -1e53\n",
        "        self.best_model = None\n",
        "\n",
        "    def evaluate_score(self, y_true, score):\n",
        "        fpr, tpr, thresholds = roc_curve(y_true, score, pos_label=-1)\n",
        "        return auc(fpr, tpr)\n",
        "\n",
        "    def __call__(self, trial):\n",
        "\n",
        "        params ={ \"n_estimators\" :trial.suggest_int('n_estimators', 10, 100),\n",
        "                  \"max_samples\": trial.suggest_float('max_samples', 0.0, .995),\n",
        "                  \"contamination\": trial.suggest_float('contamination', 1e-7, .5),\n",
        "                  \"max_features\" :trial.suggest_float('max_features', 0.0, 1.0),\n",
        "                  \"bootstrap\": trial.suggest_categorical('bootstrap', [True, False])\n",
        "                 }\n",
        "        forest = IsolationForest(**params, warm_start=False, n_jobs=-1)\n",
        "        forest.fit(self.X)\n",
        "        y_val = forest.decision_function(self.X_val)\n",
        "        score = self.evaluate_score(self.Y_val, -y_val)\n",
        "\n",
        "        if self.best_score < score:\n",
        "            self.best_score = score\n",
        "            self.best_model = forest\n",
        "\n",
        "        return score"
      ],
      "metadata": {
        "id": "IlmRrVDswFuN"
      },
      "execution_count": 111,
      "outputs": []
    },
    {
      "cell_type": "markdown",
      "source": [
        "## **2.2 Detector Fitting and Data Anonymization**"
      ],
      "metadata": {
        "id": "DIEpNWMmUL8E"
      }
    },
    {
      "cell_type": "markdown",
      "source": [
        "Обозначим через -1 - вышедшее из строя оборудования, а за 1 - нормально функционирующее"
      ],
      "metadata": {
        "id": "Dn4zAKOwGW-t"
      }
    },
    {
      "cell_type": "code",
      "source": [
        "train_df = pd.read_csv('/drive/My Drive/rul/train_telemetry.csv')\n",
        "test_df = pd.read_csv('/drive/My Drive/rul/test_telemetry.csv')\n",
        "\n",
        "train_df[\"failed\"] = train_df[\"failed\"].astype(int)\n",
        "test_df[\"failed\"] = test_df[\"failed\"].astype(int)\n",
        "\n",
        "train_df[[\"failed\"]] = train_df[[\"failed\"]].applymap(lambda x: -1 if x == 1 else 1)\n",
        "test_df[[\"failed\"]] = test_df[[\"failed\"]].applymap(lambda x: -1 if x == 1 else 1)\n",
        "\n",
        "Y_train = train_df[\"failed\"].values.ravel()\n",
        "Y_test = test_df[\"failed\"].values.ravel()\n",
        "\n",
        "n_outliers = train_df[\"failed\"].value_counts()[-1]\n",
        "print(f\"outliers number: {n_outliers:.2f}\")\n",
        "print(f\"outliers percent: {(n_outliers/train_df.shape[0])*100:.2f}\")"
      ],
      "metadata": {
        "colab": {
          "base_uri": "https://localhost:8080/"
        },
        "id": "iUQTCIdAv2R-",
        "outputId": "ef7c492e-f591-44d6-e077-fa4918c24b1e"
      },
      "execution_count": 112,
      "outputs": [
        {
          "output_type": "stream",
          "name": "stdout",
          "text": [
            "outliers number: 319.00\n",
            "outliers percent: 1.62\n"
          ]
        }
      ]
    },
    {
      "cell_type": "markdown",
      "source": [
        "Как видно примеров для честного классификатора у нас очень мало поэтому детектирования нерабочих состояний как аномалий вполне законна. Для этого пользуясь Optuna поищем оптимальные по AUC параметры и будем помнить, что может потребоваться несколько попыток так как IsolationForest unsupervised алгоритм и он легко переобучается"
      ],
      "metadata": {
        "id": "OzOhYdkrHJjd"
      }
    },
    {
      "cell_type": "code",
      "source": [
        "dropped_lst = [\"machineID\", 'datetime', 'RULWeek', 'failure', 'failed', 'RUL', 'RUL_I' ]\n",
        "\n",
        "train_df, X_val, Y_train, Y_val = \\\n",
        "      train_test_split(\n",
        "          train_df, Y_train, test_size=.3, stratify=train_df[[\"failed\"]])\n",
        "\n",
        "train_df.drop(dropped_lst, axis=1, inplace=True)\n",
        "test_df.drop(dropped_lst, axis=1, inplace=True)\n",
        "\n",
        "X_train = transform.fit_transform(train_df)\n",
        "\n",
        "X_val = transform.transform(X_val)\n",
        "X_test = transform.transform(test_df)"
      ],
      "metadata": {
        "id": "G_KV8LjmNK-B"
      },
      "execution_count": 113,
      "outputs": []
    },
    {
      "cell_type": "code",
      "source": [
        "objective = IsolationForestSupervised(X_train, Y_train, X_val, Y_val)\n",
        "study = optuna.create_study(direction=\"maximize\")\n",
        "study.optimize(objective, n_trials=30)\n",
        "params = study.best_trial.params"
      ],
      "metadata": {
        "colab": {
          "base_uri": "https://localhost:8080/"
        },
        "id": "NiFghlc_JccW",
        "outputId": "c92d1fd9-8b8a-41a8-c037-945c13843f08"
      },
      "execution_count": 114,
      "outputs": [
        {
          "output_type": "stream",
          "name": "stderr",
          "text": [
            "[I 2023-06-19 19:43:54,730] A new study created in memory with name: no-name-e11a6201-19b0-4a49-8595-56d0ec365313\n",
            "[I 2023-06-19 19:43:55,083] Trial 0 finished with value: 0.9201451791465378 and parameters: {'n_estimators': 41, 'max_samples': 0.5573561033728717, 'contamination': 0.49357448208541166, 'max_features': 0.33860046157629653, 'bootstrap': False}. Best is trial 0 with value: 0.9201451791465378.\n",
            "[I 2023-06-19 19:43:55,378] Trial 1 finished with value: 0.944278201920865 and parameters: {'n_estimators': 20, 'max_samples': 0.4468076600142463, 'contamination': 0.18424964220808257, 'max_features': 0.7253508598981848, 'bootstrap': False}. Best is trial 1 with value: 0.944278201920865.\n",
            "[I 2023-06-19 19:43:56,078] Trial 2 finished with value: 0.9497507260754543 and parameters: {'n_estimators': 89, 'max_samples': 0.018396319885359138, 'contamination': 0.16919194338413562, 'max_features': 0.9598043551002519, 'bootstrap': False}. Best is trial 2 with value: 0.9497507260754543.\n",
            "[I 2023-06-19 19:43:56,690] Trial 3 finished with value: 0.9476956090407177 and parameters: {'n_estimators': 55, 'max_samples': 0.65792302984124, 'contamination': 0.4504791182053838, 'max_features': 0.9516042244495354, 'bootstrap': True}. Best is trial 2 with value: 0.9497507260754543.\n",
            "[I 2023-06-19 19:43:57,367] Trial 4 finished with value: 0.9614029790660226 and parameters: {'n_estimators': 90, 'max_samples': 0.1430346713213222, 'contamination': 0.3042097080823238, 'max_features': 0.48837861649336634, 'bootstrap': True}. Best is trial 4 with value: 0.9614029790660226.\n",
            "[I 2023-06-19 19:43:58,208] Trial 5 finished with value: 0.9495808891189327 and parameters: {'n_estimators': 89, 'max_samples': 0.4158922138718987, 'contamination': 0.1679688338065429, 'max_features': 0.8360068370053214, 'bootstrap': False}. Best is trial 4 with value: 0.9614029790660226.\n",
            "[I 2023-06-19 19:43:58,488] Trial 6 finished with value: 0.9277752616747182 and parameters: {'n_estimators': 47, 'max_samples': 0.14862400572332393, 'contamination': 0.261135876583593, 'max_features': 0.14777087810579925, 'bootstrap': False}. Best is trial 4 with value: 0.9614029790660226.\n",
            "[I 2023-06-19 19:43:58,760] Trial 7 finished with value: 0.9397734788359788 and parameters: {'n_estimators': 26, 'max_samples': 0.7933393846821059, 'contamination': 0.05195093530461345, 'max_features': 0.8640898335194095, 'bootstrap': True}. Best is trial 4 with value: 0.9614029790660226.\n",
            "[I 2023-06-19 19:43:59,546] Trial 8 finished with value: 0.9478142253278122 and parameters: {'n_estimators': 77, 'max_samples': 0.3329635263173237, 'contamination': 0.3205910614510225, 'max_features': 0.4926646898943845, 'bootstrap': False}. Best is trial 4 with value: 0.9614029790660226.\n",
            "[I 2023-06-19 19:44:01,261] Trial 9 finished with value: 0.9459064800437083 and parameters: {'n_estimators': 71, 'max_samples': 0.9004521220395706, 'contamination': 0.35808024894611573, 'max_features': 0.6018392603308642, 'bootstrap': False}. Best is trial 4 with value: 0.9614029790660226.\n",
            "[I 2023-06-19 19:44:02,476] Trial 10 finished with value: 0.8949814527260179 and parameters: {'n_estimators': 98, 'max_samples': 0.15421608925137176, 'contamination': 0.4010144583843013, 'max_features': 0.04481537837416738, 'bootstrap': True}. Best is trial 4 with value: 0.9614029790660226.\n",
            "[I 2023-06-19 19:44:03,776] Trial 11 finished with value: 0.9554425106395215 and parameters: {'n_estimators': 74, 'max_samples': 0.01295957816494872, 'contamination': 0.24762520464771684, 'max_features': 0.6379347380517999, 'bootstrap': True}. Best is trial 4 with value: 0.9614029790660226.\n",
            "[I 2023-06-19 19:44:04,513] Trial 12 finished with value: 0.947170821831148 and parameters: {'n_estimators': 71, 'max_samples': 0.04186052070040405, 'contamination': 0.28520081264753955, 'max_features': 0.505409554457937, 'bootstrap': True}. Best is trial 4 with value: 0.9614029790660226.\n",
            "[I 2023-06-19 19:44:05,654] Trial 13 finished with value: 0.9421332240625718 and parameters: {'n_estimators': 79, 'max_samples': 0.25540935716076885, 'contamination': 0.36258552503597846, 'max_features': 0.6716818834348406, 'bootstrap': True}. Best is trial 4 with value: 0.9614029790660226.\n",
            "[I 2023-06-19 19:44:06,439] Trial 14 finished with value: 0.9153852513227514 and parameters: {'n_estimators': 62, 'max_samples': 0.2105345687339723, 'contamination': 0.2517288803616605, 'max_features': 0.3783503658674221, 'bootstrap': True}. Best is trial 4 with value: 0.9614029790660226.\n",
            "[I 2023-06-19 19:44:07,844] Trial 15 finished with value: 0.9346001912238325 and parameters: {'n_estimators': 100, 'max_samples': 0.024514027131733927, 'contamination': 0.20844983568386133, 'max_features': 0.6963791147829805, 'bootstrap': True}. Best is trial 4 with value: 0.9614029790660226.\n",
            "[I 2023-06-19 19:44:09,061] Trial 16 finished with value: 0.952319847020934 and parameters: {'n_estimators': 83, 'max_samples': 0.3009697394007803, 'contamination': 0.30960256545718196, 'max_features': 0.5469278353059897, 'bootstrap': True}. Best is trial 4 with value: 0.9614029790660226.\n",
            "[I 2023-06-19 19:44:10,164] Trial 17 finished with value: 0.9508964515757994 and parameters: {'n_estimators': 64, 'max_samples': 0.11621106996577454, 'contamination': 0.11733515885990037, 'max_features': 0.37130910399824896, 'bootstrap': True}. Best is trial 4 with value: 0.9614029790660226.\n",
            "[I 2023-06-19 19:44:11,126] Trial 18 finished with value: 0.5 and parameters: {'n_estimators': 90, 'max_samples': 1.7941802327607614e-05, 'contamination': 0.250358386269267, 'max_features': 0.7577916801490611, 'bootstrap': True}. Best is trial 4 with value: 0.9614029790660226.\n",
            "[I 2023-06-19 19:44:11,896] Trial 19 finished with value: 0.9643018892339544 and parameters: {'n_estimators': 41, 'max_samples': 0.34285844559932366, 'contamination': 0.0018369149814086438, 'max_features': 0.6125112545061878, 'bootstrap': True}. Best is trial 19 with value: 0.9643018892339544.\n",
            "[I 2023-06-19 19:44:12,119] Trial 20 finished with value: 0.9342560242696112 and parameters: {'n_estimators': 10, 'max_samples': 0.3526760252421772, 'contamination': 0.03327459237827515, 'max_features': 0.45883174572619073, 'bootstrap': True}. Best is trial 19 with value: 0.9643018892339544.\n",
            "[I 2023-06-19 19:44:12,722] Trial 21 finished with value: 0.9404537252703014 and parameters: {'n_estimators': 37, 'max_samples': 0.22691298661347134, 'contamination': 0.09683123671489646, 'max_features': 0.631782438267755, 'bootstrap': True}. Best is trial 19 with value: 0.9643018892339544.\n",
            "[I 2023-06-19 19:44:13,446] Trial 22 finished with value: 0.9543758626639062 and parameters: {'n_estimators': 54, 'max_samples': 0.12578384617920457, 'contamination': 0.21252082736669953, 'max_features': 0.5945673291997443, 'bootstrap': True}. Best is trial 19 with value: 0.9643018892339544.\n",
            "[I 2023-06-19 19:44:14,341] Trial 23 finished with value: 0.9442305756843801 and parameters: {'n_estimators': 35, 'max_samples': 0.21952153824457846, 'contamination': 0.029534394513506756, 'max_features': 0.5814925393931776, 'bootstrap': True}. Best is trial 19 with value: 0.9643018892339544.\n",
            "[I 2023-06-19 19:44:16,137] Trial 24 finished with value: 0.929631786289395 and parameters: {'n_estimators': 66, 'max_samples': 0.10699547824444061, 'contamination': 0.004650367622536761, 'max_features': 0.7639185058210397, 'bootstrap': True}. Best is trial 19 with value: 0.9643018892339544.\n",
            "[I 2023-06-19 19:44:16,876] Trial 25 finished with value: 0.947081859615827 and parameters: {'n_estimators': 51, 'max_samples': 0.28235183568856215, 'contamination': 0.13755337506472953, 'max_features': 0.6383792373999442, 'bootstrap': True}. Best is trial 19 with value: 0.9643018892339544.\n",
            "[I 2023-06-19 19:44:17,642] Trial 26 finished with value: 0.9410315303657695 and parameters: {'n_estimators': 84, 'max_samples': 0.372444224420336, 'contamination': 0.08575611701588134, 'max_features': 0.44232212830345063, 'bootstrap': True}. Best is trial 19 with value: 0.9643018892339544.\n",
            "[I 2023-06-19 19:44:18,252] Trial 27 finished with value: 0.9539912583390844 and parameters: {'n_estimators': 75, 'max_samples': 0.18234277086556128, 'contamination': 0.0644834737830847, 'max_features': 0.538762050728612, 'bootstrap': True}. Best is trial 19 with value: 0.9643018892339544.\n",
            "[I 2023-06-19 19:44:19,001] Trial 28 finished with value: 0.9515506383712906 and parameters: {'n_estimators': 94, 'max_samples': 0.10584873958698815, 'contamination': 0.20231286730808853, 'max_features': 0.6661982539623039, 'bootstrap': True}. Best is trial 19 with value: 0.9643018892339544.\n",
            "[I 2023-06-19 19:44:19,332] Trial 29 finished with value: 0.9371082068092937 and parameters: {'n_estimators': 42, 'max_samples': 0.4987404260426086, 'contamination': 0.13976010313078152, 'max_features': 0.27355729181586474, 'bootstrap': True}. Best is trial 19 with value: 0.9643018892339544.\n"
          ]
        }
      ]
    },
    {
      "cell_type": "markdown",
      "source": [
        "## **2.3 Test Classifier on Test Data**"
      ],
      "metadata": {
        "id": "6bPmBfg0xzA-"
      }
    },
    {
      "cell_type": "code",
      "source": [
        "outliers_d = objective.best_model\n",
        "\n",
        "Y_pred = outliers_d.predict(X_test)\n",
        "\n",
        "outlier_metirc_detection_report(Y_test, Y_pred)\n"
      ],
      "metadata": {
        "colab": {
          "base_uri": "https://localhost:8080/"
        },
        "id": "RBMEOwwG2G-B",
        "outputId": "c6357e0f-9871-4419-b1b9-e579683da0a9"
      },
      "execution_count": 115,
      "outputs": [
        {
          "output_type": "stream",
          "name": "stdout",
          "text": [
            "precision:  0.62\n",
            "recall:  0.03\n",
            "f1_score:  0.06\n"
          ]
        }
      ]
    },
    {
      "cell_type": "markdown",
      "source": [
        "Хотя метрики и неособо хорошие они вполнее соответствуют тому малому числу примеров аномалий в данных"
      ],
      "metadata": {
        "id": "vSrLMzfkItyO"
      }
    }
  ],
  "metadata": {
    "anaconda-cloud": {},
    "colab": {
      "provenance": [],
      "toc_visible": true,
      "gpuType": "T4"
    },
    "kernelspec": {
      "display_name": "Python 3",
      "name": "python3"
    },
    "language_info": {
      "codemirror_mode": {
        "name": "ipython",
        "version": 3
      },
      "file_extension": ".py",
      "mimetype": "text/x-python",
      "name": "python",
      "nbconvert_exporter": "python",
      "pygments_lexer": "ipython3",
      "version": "3.7.6"
    }
  },
  "nbformat": 4,
  "nbformat_minor": 0
}